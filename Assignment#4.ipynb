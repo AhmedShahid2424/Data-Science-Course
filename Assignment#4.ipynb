{
 "cells": [
  {
   "cell_type": "markdown",
   "id": "442729c4",
   "metadata": {},
   "source": [
    "# Assignment # 4"
   ]
  },
  {
   "cell_type": "code",
   "execution_count": null,
   "id": "236f9ac9",
   "metadata": {},
   "outputs": [],
   "source": [
    "# Question # 1\n",
    "\n",
    "import pandas as pd\n",
    "import numpy as np\n",
    "data = pd.read_csv(\"netflix_titles.csv\")\n",
    "\n",
    "data[\"cast\"] = data[\"cast\"].replace(np.nan, \"0\")\n",
    "\n",
    "\n",
    "num_of_cast = data['cast'].value_counts()\n",
    "\n",
    "\n",
    "def set_cast(val):\n",
    "    \n",
    "    if val == \"0\":\n",
    "        return 0\n",
    "    else:\n",
    "        return val\n",
    "\n",
    "    #if val == \"NaN\":\n",
    "        #return 0\n",
    "    #else:\n",
    "        #return val\n",
    "    \n",
    "data[\"num_of_cast\"] = data[\"cast\"].apply(set_cast)\n",
    "data\n"
   ]
  },
  {
   "cell_type": "code",
   "execution_count": null,
   "id": "5645a533",
   "metadata": {},
   "outputs": [],
   "source": [
    "\n",
    "# Question # 2\n",
    "\n",
    "import pandas as pd\n",
    "data=pd.read_csv(\"netflix_titles.csv\")\n",
    "data.groupby(\"type\")[\"rating\"].value_counts()\n",
    "data.groupby(\"type\").groups"
   ]
  }
 ],
 "metadata": {
  "kernelspec": {
   "display_name": "Python 3 (ipykernel)",
   "language": "python",
   "name": "python3"
  },
  "language_info": {
   "codemirror_mode": {
    "name": "ipython",
    "version": 3
   },
   "file_extension": ".py",
   "mimetype": "text/x-python",
   "name": "python",
   "nbconvert_exporter": "python",
   "pygments_lexer": "ipython3",
   "version": "3.9.7"
  }
 },
 "nbformat": 4,
 "nbformat_minor": 5
}
